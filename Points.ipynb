{
 "cells": [
  {
   "cell_type": "markdown",
   "id": "7f166af0",
   "metadata": {},
   "source": [
    "## Co-ordinate Geometry\n",
    "\n",
    "- x-coordinate - abscissa\n",
    "- y-coordinate - ordinate\n",
    "\n",
    "it is look like - p1(x,y)\n"
   ]
  },
  {
   "cell_type": "code",
   "execution_count": 9,
   "id": "c8ee3b52",
   "metadata": {},
   "outputs": [],
   "source": [
    "import math \n",
    "import numpy as np\n",
    "class Point:\n",
    "    \n",
    "    def __init__(self, abscissa, ordinate):\n",
    "        self.__x = abscissa\n",
    "        self.__y = ordinate\n",
    "        \n",
    "    def __str__(self):\n",
    "        return '({}, {})'.format(self.__x,self.__y)\n",
    "    \n",
    "    # distance formaula\n",
    "    def distance(self, other):\n",
    "        return math.sqrt(((other.__x - self.__x) ** 2) + ((other.__y - self.__y) ** 2))\n",
    "    \n",
    "    # section formula\n",
    "    def sectionFormula(self, other, m1, m2):\n",
    "        section_x = (m1*other.__x + m2 * self.__x)/(m1 + m2)\n",
    "        section_y = (m1 * other.__y + m2 * self.__y)/(m1 + m2)\n",
    "        return '({}, {})'.format(section_x, section_y)\n",
    "    \n",
    "    \n",
    "    # special case of section formula or find mid point between 2 points\n",
    "    def midPoint(self, other):\n",
    "        section_x = (other.__x + self.__x)/(2)\n",
    "        section_y = (other.__y + self.__y)/(2)\n",
    "        return '({}, {})'.format(section_x, section_y)\n",
    "    \n",
    "    # trisection(i.e., points dividing in three equal parts)\n",
    "    def trisection(self, other):\n",
    "        x1 = (other.__x + 2 * self.__x)/3\n",
    "        y1 = (other.__y + 2 * self.__y)/3\n",
    "        \n",
    "        x2 = (2 * other.__x + self.__x)/3\n",
    "        y2 = (2 * other.__y + self.__y)/3\n",
    "        \n",
    "        return '({}, {}) & ({}, {})'.format(x1, y1, x2, y2)\n",
    "    \n",
    "    # colinear(i.e., point lies in the same straight line)\n",
    "    def colinear(self, *other):\n",
    "        area = 1/2*(self.__x * (other[0].__y - other[1].__y) + other[0].__x * (other[1].__y - self.__y) + other[1].__x * (self.__y - other[0].__y))\n",
    "        if area == 0:\n",
    "            return True\n",
    "        else:\n",
    "            return False\n",
    "    \n",
    "    # Calculate area of triangle fromed by 3 points\n",
    "    def areaOfTriangle(self, *other):\n",
    "        area = 1/2*(self.__x * (other[0].__y - other[1].__y) + other[0].__x * (other[1].__y - self.__y) + other[1].__x * (self.__y - other[0].__y))\n",
    "        return area\n",
    "    \n",
    "    # find equation of line that pass pass from two points p1(x1,y1) & p2(x2, y2)\n",
    "    # y - y1 = (y2- y1)/(x2-x1) * (x- x1)\n",
    "    def twoPointForm(self, other):\n",
    "        slope = (other.__y - self.__y)/(other.__x - self.__x)\n",
    "        const = self.__y - slope * self.__x\n",
    "#         return 'y = {}x {}'.format(slope, const)\n",
    "        return Line(slope, const)\n",
    "    \n",
    "    #Slope point form\n",
    "    def slopePointForm(self, m):\n",
    "        interscept = self.__y - m * self.__x\n",
    "        return Line(m, interscept)\n"
   ]
  },
  {
   "cell_type": "code",
   "execution_count": 2,
   "id": "6ed3706d",
   "metadata": {},
   "outputs": [],
   "source": [
    "class Line:\n",
    "    \n",
    "    def __init__(self, slope, constant):\n",
    "        self.__m = slope\n",
    "        self.__c = constant\n",
    "        \n",
    "    def __str__(self):\n",
    "        if(self.__c < 0):\n",
    "            symbol = '-'\n",
    "        else:\n",
    "            symbol = '+'\n",
    "        return 'y = {}x {} {}'.format(self.__m, symbol, abs(self.__c))\n",
    "    \n",
    "    \n",
    "    "
   ]
  },
  {
   "cell_type": "code",
   "execution_count": 4,
   "id": "bad85b44",
   "metadata": {},
   "outputs": [
    {
     "name": "stdout",
     "output_type": "stream",
     "text": [
      "1.4142135623730951\n"
     ]
    }
   ],
   "source": [
    "p2 = Point(4,7)\n",
    "p1 = Point(5,6)\n",
    "print(p1.distance(p2))"
   ]
  },
  {
   "cell_type": "code",
   "execution_count": null,
   "id": "0ce29eba",
   "metadata": {},
   "outputs": [],
   "source": [
    "p3 = Point(8,5)\n",
    "p4 = Point(4,-3)\n",
    "\n",
    "sec = p3.sectionFormula(p4, 1, 3)\n",
    "print(sec)"
   ]
  },
  {
   "cell_type": "code",
   "execution_count": null,
   "id": "cfa9fa4e",
   "metadata": {},
   "outputs": [],
   "source": [
    "mid = p3.midPoint(p4)\n",
    "print(mid)"
   ]
  },
  {
   "cell_type": "code",
   "execution_count": null,
   "id": "87298dc3",
   "metadata": {},
   "outputs": [],
   "source": [
    "p11 = Point(2,-2)\n",
    "p12 = Point(-7, 4)\n",
    "\n",
    "\n",
    "tri = p11.trisection(p12)\n",
    "print(tri)"
   ]
  },
  {
   "cell_type": "code",
   "execution_count": null,
   "id": "d0712c23",
   "metadata": {},
   "outputs": [],
   "source": [
    "# colinear points\n",
    "\n",
    "t1 = Point(1, -1)\n",
    "t2 = Point(-4, 6)\n",
    "t3 = Point(-3, -5)\n",
    "\n",
    "tel = t1.colinear(t2,t3)\n",
    "print(tel)"
   ]
  },
  {
   "cell_type": "code",
   "execution_count": null,
   "id": "d19eb427",
   "metadata": {},
   "outputs": [],
   "source": [
    "# Area of triangle\n",
    "\n",
    "t1 = Point(1, -1)\n",
    "t2 = Point(-4, 6)\n",
    "t3 = Point(-3, -5)\n",
    "\n",
    "ar = t1.areaOfTriangle(t2, t3)\n",
    "print(ar)"
   ]
  },
  {
   "cell_type": "code",
   "execution_count": 6,
   "id": "9d098d6a",
   "metadata": {},
   "outputs": [
    {
     "name": "stdout",
     "output_type": "stream",
     "text": [
      "y = 3.0x - 3.0\n"
     ]
    }
   ],
   "source": [
    "# Two Point form\n",
    "\n",
    "q1 = Point(1, 0)\n",
    "q2 = Point(2,3)\n",
    "\n",
    "line1 = q1.twoPointForm(q2)\n",
    "print(line1)"
   ]
  },
  {
   "cell_type": "code",
   "execution_count": null,
   "id": "9d55208e",
   "metadata": {},
   "outputs": [],
   "source": [
    "l1 = Line(3,-3)\n",
    "print(l1)"
   ]
  },
  {
   "cell_type": "code",
   "execution_count": 10,
   "id": "7b76a3a4",
   "metadata": {},
   "outputs": [
    {
     "name": "stdout",
     "output_type": "stream",
     "text": [
      "y = 1.33x + 1.0099999999999998\n"
     ]
    }
   ],
   "source": [
    "p1 = Point(3,5)\n",
    "m = 1.33\n",
    "e1 = p1.slopePointForm(m)\n",
    "print(e1)"
   ]
  },
  {
   "cell_type": "code",
   "execution_count": null,
   "id": "bc1d650d",
   "metadata": {},
   "outputs": [],
   "source": []
  }
 ],
 "metadata": {
  "kernelspec": {
   "display_name": "Python 3 (ipykernel)",
   "language": "python",
   "name": "python3"
  },
  "language_info": {
   "codemirror_mode": {
    "name": "ipython",
    "version": 3
   },
   "file_extension": ".py",
   "mimetype": "text/x-python",
   "name": "python",
   "nbconvert_exporter": "python",
   "pygments_lexer": "ipython3",
   "version": "3.9.12"
  }
 },
 "nbformat": 4,
 "nbformat_minor": 5
}
